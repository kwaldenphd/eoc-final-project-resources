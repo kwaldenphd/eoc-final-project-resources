{
  "nbformat": 4,
  "nbformat_minor": 0,
  "metadata": {
    "colab": {
      "name": "eoc-final-project-template.ipynb",
      "provenance": [],
      "toc_visible": true,
      "authorship_tag": "ABX9TyOygqDLpQsXezQeha32NLHS",
      "include_colab_link": true
    },
    "kernelspec": {
      "name": "python3",
      "display_name": "Python 3"
    },
    "language_info": {
      "name": "python"
    }
  },
  "cells": [
    {
      "cell_type": "markdown",
      "metadata": {
        "id": "view-in-github",
        "colab_type": "text"
      },
      "source": [
        "<a href=\"https://colab.research.google.com/github/kwaldenphd/eoc-final-project-resources/blob/main/eoc_final_project_template.ipynb\" target=\"_parent\"><img src=\"https://colab.research.google.com/assets/colab-badge.svg\" alt=\"Open In Colab\"/></a>"
      ]
    },
    {
      "cell_type": "markdown",
      "source": [
        "# Elements of Computing Final Project"
      ],
      "metadata": {
        "id": "rJWuhiyqgGQ4"
      }
    },
    {
      "cell_type": "markdown",
      "source": [
        "Student Name: **Enter Your Name Here (Double click to edit)**\n",
        "<br>\n",
        "Net ID: **Enter Your NetID Here (Double click to edit)**\n",
        "<br>"
      ],
      "metadata": {
        "id": "SJlKvE8VgUh0"
      }
    },
    {
      "cell_type": "markdown",
      "source": [
        "## Installing Packages/Libraries"
      ],
      "metadata": {
        "id": "Ottm5IeZf6wz"
      }
    },
    {
      "cell_type": "code",
      "execution_count": null,
      "metadata": {
        "id": "Tg4JGuDzf2zA"
      },
      "outputs": [],
      "source": [
        "# install packages\n",
        "import sys\n",
        "! {sys.executable} -m pip install plotly\n",
        "! {sys.executable} -m pip install PACKAGE NAME"
      ]
    },
    {
      "cell_type": "markdown",
      "source": [
        "## Running Import Statements"
      ],
      "metadata": {
        "id": "_C1XUb0pf-HZ"
      }
    },
    {
      "cell_type": "code",
      "source": [
        "# import statements\n",
        "import pandas as pd\n",
        "import plotly.express as px\n",
        "OTHER IMPORT STATEMENTS AS NEEDED"
      ],
      "metadata": {
        "id": "meUvrA2Nf_k-"
      },
      "execution_count": null,
      "outputs": []
    },
    {
      "cell_type": "markdown",
      "source": [
        "## Loading Data\n",
        "\n",
        "NOTE: If using a data file saved locally to your computer, **be sure to upload the file as part of your submission.**"
      ],
      "metadata": {
        "id": "w44XoinPf_zs"
      }
    },
    {
      "cell_type": "code",
      "source": [
        "# loading data from file/url/api/etc"
      ],
      "metadata": {
        "id": "NFsvngOtgAhy"
      },
      "execution_count": null,
      "outputs": []
    },
    {
      "cell_type": "markdown",
      "source": [
        "## Data Wrangling/Reshaping"
      ],
      "metadata": {
        "id": "8XWxYkUHgDeZ"
      }
    },
    {
      "cell_type": "code",
      "source": [
        "# code for data wrangling/reshaping- add cells as needed"
      ],
      "metadata": {
        "id": "9UiX-6iGgEkb"
      },
      "execution_count": null,
      "outputs": []
    },
    {
      "cell_type": "markdown",
      "source": [
        "## Generating Visualizations"
      ],
      "metadata": {
        "id": "hZl-3LSHgA_q"
      }
    },
    {
      "cell_type": "code",
      "source": [
        "# code for generating visualizations- add cells as needed"
      ],
      "metadata": {
        "id": "ybbI1FHXgCX5"
      },
      "execution_count": null,
      "outputs": []
    },
    {
      "cell_type": "markdown",
      "source": [
        "## Reflection/Narrative\n",
        "\n",
        "*Can come at the end or be embedded in markdown cells throughout the project*\n",
        "\n",
        "Adding images to a Jupyter Notebook:\n",
        "- [Google CoLab](https://towardsdatascience.com/the-2-step-guide-to-upload-images-in-google-colab-b51348e882e4)\n",
        "- [Jupyter Notebook/Jupyter Lab through Anaconda](https://ealizadeh.com/blog/3-ways-to-add-images-to-your-jupyter-notebook)\n",
        "\n",
        "NOTE: If inserting or embedding an image file from your local computer, **be sure to also upload the image file(s) as part of your submission.**"
      ],
      "metadata": {
        "id": "m3ntLH6hgXDX"
      }
    }
  ]
}